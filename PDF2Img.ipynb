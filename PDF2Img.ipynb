{
  "nbformat": 4,
  "nbformat_minor": 0,
  "metadata": {
    "colab": {
      "name": "PDF2Img.ipynb",
      "provenance": [],
      "collapsed_sections": []
    },
    "kernelspec": {
      "name": "python3",
      "display_name": "Python 3"
    }
  },
  "cells": [
    {
      "cell_type": "markdown",
      "metadata": {
        "id": "L8xb_hc09oHV",
        "colab_type": "text"
      },
      "source": [
        "**Convert PDF to Image**"
      ]
    },
    {
      "cell_type": "code",
      "metadata": {
        "id": "GK8pirwJ-eqR",
        "colab_type": "code",
        "colab": {
          "base_uri": "https://localhost:8080/",
          "height": 425
        },
        "outputId": "290760b9-03fd-40b2-ac55-d0d1a9978698"
      },
      "source": [
        "!pip install pdf2image\n",
        "!apt-get install -y poppler-utils"
      ],
      "execution_count": 1,
      "outputs": [
        {
          "output_type": "stream",
          "text": [
            "Collecting pdf2image\n",
            "  Downloading https://files.pythonhosted.org/packages/c6/62/bf2df0547cf4e216b329a9d39a7aa6c755f02071e63e17a4b76690ebfe20/pdf2image-1.13.1-py3-none-any.whl\n",
            "Requirement already satisfied: pillow in /usr/local/lib/python3.6/dist-packages (from pdf2image) (7.0.0)\n",
            "Installing collected packages: pdf2image\n",
            "Successfully installed pdf2image-1.13.1\n",
            "Reading package lists... Done\n",
            "Building dependency tree       \n",
            "Reading state information... Done\n",
            "The following package was automatically installed and is no longer required:\n",
            "  libnvidia-common-440\n",
            "Use 'apt autoremove' to remove it.\n",
            "The following NEW packages will be installed:\n",
            "  poppler-utils\n",
            "0 upgraded, 1 newly installed, 0 to remove and 35 not upgraded.\n",
            "Need to get 154 kB of archives.\n",
            "After this operation, 613 kB of additional disk space will be used.\n",
            "Get:1 http://archive.ubuntu.com/ubuntu bionic-updates/main amd64 poppler-utils amd64 0.62.0-2ubuntu2.10 [154 kB]\n",
            "Fetched 154 kB in 1s (103 kB/s)\n",
            "Selecting previously unselected package poppler-utils.\n",
            "(Reading database ... 144465 files and directories currently installed.)\n",
            "Preparing to unpack .../poppler-utils_0.62.0-2ubuntu2.10_amd64.deb ...\n",
            "Unpacking poppler-utils (0.62.0-2ubuntu2.10) ...\n",
            "Setting up poppler-utils (0.62.0-2ubuntu2.10) ...\n",
            "Processing triggers for man-db (2.8.3-2ubuntu0.1) ...\n"
          ],
          "name": "stdout"
        }
      ]
    },
    {
      "cell_type": "code",
      "metadata": {
        "id": "xpul1K2s9o9u",
        "colab_type": "code",
        "colab": {}
      },
      "source": [
        "# Upload PDF File\n",
        "PDF_PATH = '/content/7000_3000300154.pdf'"
      ],
      "execution_count": 2,
      "outputs": []
    },
    {
      "cell_type": "code",
      "metadata": {
        "id": "diotRTYw9wpQ",
        "colab_type": "code",
        "colab": {}
      },
      "source": [
        "from pdf2image import convert_from_path\n",
        "\n",
        "images = convert_from_path(PDF_PATH)\n",
        "\n",
        "for i, image in enumerate(images):\n",
        "    fname = \"image\" + str(i) + \".jpg\"\n",
        "    img=PDF_PATH[:-4]+\"-\"+str(i)+\".jpg\"\n",
        "    image.save(img, \"JPEG\")"
      ],
      "execution_count": 5,
      "outputs": []
    }
  ]
}